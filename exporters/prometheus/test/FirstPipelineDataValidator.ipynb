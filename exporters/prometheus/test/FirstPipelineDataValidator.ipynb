{
 "cells": [
  {
   "cell_type": "code",
   "execution_count": 1,
   "metadata": {},
   "outputs": [],
   "source": [
    "import requests\n",
    "from datetime import datetime\n",
    "from collections import defaultdict"
   ]
  },
  {
   "cell_type": "code",
   "execution_count": 2,
   "metadata": {},
   "outputs": [],
   "source": [
    "PROMETHEUS_HOST = \"localhost:9090\"\n",
    "\n",
    "COUNTER_COUNT = 0\n",
    "GAUGE_COUNT = 0\n",
    "\n",
    "COUNTER_PASS = 0\n",
    "GAUGE_PASS = 0\n",
    "\n",
    "expected_metrics = defaultdict()\n",
    "entries = []\n",
    "\n",
    "# read and parse the answer file\n",
    "expected_answers = open(\"PrometheusAnswersFirst.csv\", \"r\")\n",
    "lines = expected_answers.readlines()\n",
    "expected_answers.close()\n",
    "\n",
    "\n",
    "def parse_label(label_str):\n",
    "    label_arr = label_str.replace(\"{\", \"\").replace(\"}\", \"\").replace('\\n', \"\").split(\":\")\n",
    "    labels = {label_arr[0]: label_arr[1]}\n",
    "    return labels\n",
    "\n",
    "\n",
    "def request_result(metric_name):\n",
    "    URL = \"http://\" + PROMETHEUS_HOST + \"/api/v1/query?query=\" + metric_name\n",
    "    r = requests.get(URL)\n",
    "    result = r.json()['data']['result']\n",
    "    return result\n",
    "\n",
    "\n",
    "def check_single_value(result):\n",
    "    if result:\n",
    "        actual_metric = result[0]['metric']\n",
    "        actual_name = actual_metric['__name__']\n",
    "        \n",
    "        actual_value = result[0]['value'][1]\n",
    "        return float(expected_metrics[actual_name]['value']) == float(actual_value)\n",
    "    return False\n",
    "\n",
    "\n",
    "def check_label(result):\n",
    "    if result:\n",
    "        actual_metric = result[0]['metric']\n",
    "        actual_name = actual_metric['__name__']\n",
    "        \n",
    "        key = \"key\" + actual_name.split('_')[0][4:]\n",
    "        actual_label = result[0]['metric'][key]\n",
    "        return expected_metrics[actual_name]['labels'][key] == actual_label\n",
    "    return False    "
   ]
  },
  {
   "cell_type": "code",
   "execution_count": 3,
   "metadata": {},
   "outputs": [],
   "source": [
    "for line in lines:\n",
    "    split_result = line.split(\"|\")\n",
    "    metric_type = split_result[0]\n",
    "    others = split_result[-1].replace(\" \", \"\")\n",
    "    other_split = others.split(\",\")\n",
    "    name = other_split[0]\n",
    "    desc = other_split[1]\n",
    "    labels_str = other_split[-1]\n",
    "\n",
    "    metric_entry = {name: metric_type}\n",
    "    entries.append(metric_entry)\n",
    "\n",
    "    expected_metrics[name] = defaultdict()\n",
    "    expected_metrics[name]['type'] = metric_type\n",
    "    if metric_type == \"counter\":\n",
    "        COUNTER_COUNT += 1\n",
    "        val = split_result[1]\n",
    "        expected_metrics[name]['value'] = val\n",
    "        expected_metrics[name]['labels'] = parse_label(labels_str)\n",
    "    elif metric_type == \"gauge\":\n",
    "        GAUGE_COUNT += 1\n",
    "        val = split_result[1]\n",
    "        expected_metrics[name]['value'] = val\n",
    "        expected_metrics[name]['labels'] = parse_label(labels_str)\n",
    "    else:\n",
    "        print(\"Unknown metric type\")"
   ]
  },
  {
   "cell_type": "code",
   "execution_count": 4,
   "metadata": {},
   "outputs": [
    {
     "name": "stdout",
     "output_type": "stream",
     "text": [
      "Total number of Counter: 1341\n",
      "Test passed Counter: 1341\n",
      "Counter test pass rate: 100.0%\n",
      "Total number of Gauge: 707\n",
      "Test passed Gauge: 707\n",
      "Gauge test pass rate: 100.0%\n"
     ]
    }
   ],
   "source": [
    "for metric_entry in entries:\n",
    "    name = list(metric_entry.keys())[0]\n",
    "    mtype = metric_entry[name]    \n",
    "\n",
    "    # send http request to Prometheus server\n",
    "    # [{'metric': {'__name__': 'name2010_counter', 'instance': 'docker.for.mac.localhost:8080', 'job': 'test_prom_exporter', 'key2010': 'value2010'}, 'value': [1598204478.776, '-2']}]\n",
    "    res = request_result(name)\n",
    "    if check_label(res) and check_single_value(res):\n",
    "        if mtype == \"counter\":\n",
    "            COUNTER_PASS += 1\n",
    "        elif mtype == \"gauge\":\n",
    "            GAUGE_PASS += 1\n",
    "\n",
    "print(\"Total number of Counter: \" + str(COUNTER_COUNT))\n",
    "print(\"Test passed Counter: \" + str(COUNTER_PASS))\n",
    "print(\"Counter test pass rate: \" + str(COUNTER_PASS / COUNTER_COUNT * 100) + \"%\")\n",
    "\n",
    "print(\"Total number of Gauge: \" + str(GAUGE_COUNT))\n",
    "print(\"Test passed Gauge: \" + str(GAUGE_PASS))\n",
    "print(\"Gauge test pass rate: \" + str(GAUGE_PASS / GAUGE_COUNT * 100) + \"%\")"
   ]
  },
  {
   "cell_type": "code",
   "execution_count": null,
   "metadata": {},
   "outputs": [],
   "source": []
  }
 ],
 "metadata": {
  "kernelspec": {
   "display_name": "Python 3",
   "language": "python",
   "name": "python3"
  },
  "language_info": {
   "codemirror_mode": {
    "name": "ipython",
    "version": 3
   },
   "file_extension": ".py",
   "mimetype": "text/x-python",
   "name": "python",
   "nbconvert_exporter": "python",
   "pygments_lexer": "ipython3",
   "version": "3.8.5"
  }
 },
 "nbformat": 4,
 "nbformat_minor": 4
}
