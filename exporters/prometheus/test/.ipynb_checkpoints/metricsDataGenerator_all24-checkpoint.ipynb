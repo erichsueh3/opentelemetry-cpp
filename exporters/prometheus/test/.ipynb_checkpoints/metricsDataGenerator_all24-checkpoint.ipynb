{
 "cells": [
  {
   "cell_type": "markdown",
   "metadata": {},
   "source": [
    "## Metrics Pipeline Reference Data Generator\n",
    "\n",
    "### This code produces 2 files: a set of captures and a set of expected export values.  "
   ]
  },
  {
   "cell_type": "code",
   "execution_count": 1,
   "metadata": {},
   "outputs": [
    {
     "data": {
      "text/html": [
       "<style>.container { width:100% !important; }</style>"
      ],
      "text/plain": [
       "<IPython.core.display.HTML object>"
      ]
     },
     "metadata": {},
     "output_type": "display_data"
    }
   ],
   "source": [
    "import random\n",
    "from collections import defaultdict\n",
    "\n",
    "from IPython.core.display import display, HTML\n",
    "display(HTML(\"<style>.container { width:100% !important; }</style>\"))"
   ]
  },
  {
   "cell_type": "code",
   "execution_count": 2,
   "metadata": {},
   "outputs": [],
   "source": [
    "labels = [\"key, value\", \"key1, value1\", \"key2, value2\", \"key3, value3\", \"key4, value4\",\"key5, value5\"]\n",
    "instruments = [\"ictr\", \"iudctr\",\"ivrec\",\"isobs\",\"iudobs\",\"ivobs\",\"fctr\", \"fudctr\",\"fvrec\",\"fsobs\",\"fudobs\",\"fvobs\",\"dctr\", \"dudctr\",\"dvrec\",\"dsobs\",\"dudobs\",\"dvobs\",\"sctr\", \"sudctr\",\"svrec\",\"ssobs\",\"sudobs\",\"svobs\"]\n",
    "answers = defaultdict(lambda: defaultdict(lambda: [0,0,0,0]))\n",
    "\n",
    "f = open(\"RefData.csv\", \"w\")\n",
    "fa = open(\"RefAnswers.csv\", \"w\")"
   ]
  },
  {
   "cell_type": "code",
   "execution_count": 3,
   "metadata": {
    "scrolled": true
   },
   "outputs": [],
   "source": [
    "for _ in range(100000):\n",
    "    instr = random.choice(instruments)\n",
    "    val = random.randint(-50,50)\n",
    "    if (instr == \"ictr\" or instr == \"isobs\" or instr == \"sctr\" or instr == \"ssobs\" or instr == \"dctr\" or instr == \"dsobs\" or instr == \"fctr\" or instr == \"fsobs\"):\n",
    "        val = abs(val)\n",
    "    lab = random.sample(labels,random.randint(1,6))\n",
    "    lab_srt = str(sorted(lab)).replace(\"[\",\"\").replace(\"]\",\"\").replace(\"'\",\"\")\n",
    "    lab_str = str(lab).replace(\"[\",\"\").replace(\"]\",\"\").replace(\"'\",\"\")\n",
    "    \n",
    "    if (instr == \"ivrec\" or instr == \"ivobs\" or instr == \"svrec\" or instr == \"svobs\" or instr == \"dvrec\" or instr == \"dvobs\" or instr == \"fvrec\" or instr == \"fvobs\"):\n",
    "        answers[instr][lab_srt][0] = val if val < answers[instr][lab_srt][0] else answers[instr][lab_srt][0]\n",
    "        answers[instr][lab_srt][1] = val if val > answers[instr][lab_srt][1] else answers[instr][lab_srt][1]\n",
    "        answers[instr][lab_srt][2] += val\n",
    "        answers[instr][lab_srt][3] += 1\n",
    "    else:\n",
    "        answers[instr][lab_srt][0] += val\n",
    "        answers[instr][lab_srt][1] += 1\n",
    "    #print(\"{:<6}  {:>6}  {:}\".format(instr,val,lab_str))\n",
    "    f.write(instr+','+str(val)+','+\"\\\"\"+lab_str+\"\\\"\\n\")\n",
    "    \n",
    "f.close()"
   ]
  },
  {
   "cell_type": "code",
   "execution_count": 4,
   "metadata": {},
   "outputs": [],
   "source": [
    "for instr in answers:\n",
    "    for lab in answers[instr]:\n",
    "        if (instr == \"ivrec\" or instr == \"ivobs\" or instr == \"svrec\" or instr == \"svobs\" or instr == \"dvrec\" or instr == \"dvobs\" or instr == \"fvrec\" or instr == \"fvobs\"):\n",
    "            #print(\"{:<8}  {:<30}  {:}\".format(instr,str(answers[instr][lab]),lab))\n",
    "            fa.write(instr+' '+str(answers[instr][lab])+' '+lab+'\\n')\n",
    "        else:\n",
    "            #print(\"{:<8}  {:<30}  {:}\".format(instr,str(answers[instr][lab][0:2]),lab))\n",
    "            fa.write(instr+' '+str(answers[instr][lab][0:2])+' '+lab+'\\n')\n",
    "            \n",
    "fa.close()"
   ]
  },
  {
   "cell_type": "markdown",
   "metadata": {},
   "source": [
    "## Validator\n",
    "\n",
    "### Compares output from the exported values with the expected values"
   ]
  },
  {
   "cell_type": "code",
   "execution_count": null,
   "metadata": {},
   "outputs": [],
   "source": [
    "fa = open(\"RefAnswers.csv\", \"r\")\n",
    "fc = open(\"ExportedData.txt\", \"r\")\n",
    "\n",
    "# Read in answers and collection\n",
    "answers = defaultdict(lambda: defaultdict(lambda: [0,0,0,0]))\n",
    "collected = defaultdict(lambda: defaultdict(lambda: [0,0,0,0]))\n",
    "\n",
    "for line in fa:\n",
    "    name = line[:line.find('[')-1]\n",
    "    lst = eval(line[line.find('['): line.find(']')+1])\n",
    "    labs = line[line.find(']')+1:].strip()\n",
    "    answers[name][labs] = lst\n",
    "\n",
    "name = \"\"\n",
    "lst = []\n",
    "labs = \"\"\n",
    "for line in fc:\n",
    "    if line.strip() == '{':\n",
    "        name = \"\"\n",
    "        lst = []\n",
    "        labs = \"\"\n",
    "    if line.strip() == '}':\n",
    "        try:\n",
    "            if len(lst) == 1:\n",
    "                if answers[name][labs][0] == lst[0]:\n",
    "                    del answers[name][labs]\n",
    "            elif answers[name][labs] == lst:\n",
    "                del answers[name][labs]\n",
    "        except:\n",
    "            print(\"name, label combination not found in dictionary\")\n",
    "    if line[:line.find(':')].strip() == \"name\":\n",
    "        name = line[line.find(':')+1:].strip()\n",
    "    if line[:line.find(':')].strip() == \"labels\":\n",
    "        labs = line[line.find(':')+1:].strip().replace('\"',\"\").replace('{',\"\").replace('}',\"\").replace(':',\",\").replace(',',\", \").strip()\n",
    "    if line[:line.find(':')].strip() == \"min\":\n",
    "        lst.append(int(line[line.find(':')+1:].strip()))\n",
    "    if line[:line.find(':')].strip() == \"max\":\n",
    "        lst.append(int(line[line.find(':')+1:].strip()))\n",
    "    if line[:line.find(':')].strip() == \"sum\":\n",
    "        lst.append(int(line[line.find(':')+1:].strip()))\n",
    "    if line[:line.find(':')].strip() == \"count\":\n",
    "        lst.append(int(line[line.find(':')+1:].strip()))\n",
    "        \n",
    "neglected = []\n",
    "for instr in answers:\n",
    "    for lab in answers[instr]:\n",
    "        neglected.append(instr+' '+str(answers[instr][lab])+' '+lab)\n",
    "        \n",
    "if (len(neglected) == 0):\n",
    "    print(\"Correct output\")\n",
    "else:\n",
    "    print(\"Mismatch detected\")\n",
    "    print(neglected)"
   ]
  },
  {
   "cell_type": "code",
   "execution_count": null,
   "metadata": {},
   "outputs": [],
   "source": []
  }
 ],
 "metadata": {
  "kernelspec": {
   "display_name": "Python 3",
   "language": "python",
   "name": "python3"
  },
  "language_info": {
   "codemirror_mode": {
    "name": "ipython",
    "version": 3
   },
   "file_extension": ".py",
   "mimetype": "text/x-python",
   "name": "python",
   "nbconvert_exporter": "python",
   "pygments_lexer": "ipython3",
   "version": "3.8.5"
  }
 },
 "nbformat": 4,
 "nbformat_minor": 2
}
