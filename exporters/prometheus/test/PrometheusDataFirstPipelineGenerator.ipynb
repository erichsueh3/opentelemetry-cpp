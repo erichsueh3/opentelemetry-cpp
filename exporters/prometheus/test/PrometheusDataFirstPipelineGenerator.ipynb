{
 "cells": [
  {
   "cell_type": "code",
   "execution_count": 1,
   "metadata": {},
   "outputs": [],
   "source": [
    "import random\n",
    "from collections import defaultdict"
   ]
  },
  {
   "cell_type": "code",
   "execution_count": 2,
   "metadata": {},
   "outputs": [],
   "source": [
    "num_instruments = 100\n",
    "names_ctr = [\"name\" + str(i) + \"_ctr\" for i in range(num_instruments)]\n",
    "names_mmsc = [\"name\" + str(i) + \"_mmsc\" for i in range(num_instruments)]\n",
    "descr = [\"descr1\", \"descr2\", \"descr3\"]\n",
    "labels = [\"key1, value1\", \"key2, value2\", \"key3, value3\"]\n",
    "instruments = [\"ictr\", \"iudctr\",\"ivrec\",\"isobs\",\"iudobs\",\"ivobs\",\"fctr\", \"fudctr\",\"fvrec\",\"fsobs\",\"fudobs\",\"fvobs\",\"dctr\", \"dudctr\",\"dvrec\",\"dsobs\",\"dudobs\",\"dvobs\",\"sctr\", \"sudctr\",\"svrec\",\"ssobs\",\"sudobs\",\"svobs\"]\n",
    "\n",
    "answers = defaultdict(lambda: defaultdict(lambda: [0,0,0,0]))"
   ]
  },
  {
   "cell_type": "code",
   "execution_count": 3,
   "metadata": {},
   "outputs": [],
   "source": [
    "f = open(\"PrometheusDataFirst.csv\", \"w\")\n",
    "\n",
    "for i in range(100000):\n",
    "    instr = random.choice(instruments)\n",
    "    val = random.randint(-50,50)\n",
    "    if (instr == \"ictr\" or instr == \"isobs\" or instr == \"sctr\" or instr == \"ssobs\" or instr == \"dctr\" or instr == \"dsobs\" or instr == \"fctr\" or instr == \"fsobs\"):\n",
    "        val = abs(val)\n",
    "\n",
    "    # TODO: might not need names + descriptions, will circle back after making load generator\n",
    "    nam = \"\"\n",
    "    if (instr == \"ivrec\" or instr == \"ivobs\" or instr == \"svrec\" or instr == \"svobs\" or instr == \"dvrec\" or instr == \"dvobs\" or instr == \"fvrec\" or instr == \"fvobs\"):\n",
    "        nam = names_mmsc[random.randint(0, num_instruments-1)]\n",
    "    else:\n",
    "        nam = names_ctr[random.randint(0, num_instruments-1)]\n",
    "    des = descr[random.randint(0, 2)]\n",
    "    \n",
    "    lab = random.sample(labels,random.randint(1,3))\n",
    "    ndl = str(nam) + \", \" + str(des) + \", \" + str(lab)\n",
    "    ndl = ndl.replace(\"[\",\"\").replace(\"]\",\"\").replace(\"'\",\"\")\n",
    "    \n",
    "    lab_str = \"{\" + \":\".join(lab[0].split(', ')) + \"}\"\n",
    "    for i in range(1, len(lab)):\n",
    "        lab_str = lab_str + \", {\" + \":\".join(lab[i].split(', ')) + \"}\"\n",
    "        \n",
    "    ndl_frmt = str(nam) + \", \" + str(des) + \", \" + lab_str\n",
    "        \n",
    "    \n",
    "    # mmsc aggregations\n",
    "    if (instr == \"ivrec\" or instr == \"ivobs\" or instr == \"svrec\" or instr == \"svobs\" or instr == \"dvrec\" or instr == \"dvobs\" or instr == \"fvrec\" or instr == \"fvobs\"):\n",
    "        answers[instr][ndl_frmt][0] = val if val < answers[instr][ndl_frmt][0] else answers[instr][ndl_frmt][0]\n",
    "        answers[instr][ndl_frmt][1] = val if val > answers[instr][ndl_frmt][1] else answers[instr][ndl_frmt][1]\n",
    "        answers[instr][ndl_frmt][2] += val\n",
    "        answers[instr][ndl_frmt][3] += 1\n",
    "    \n",
    "    # counter aggregations\n",
    "    else:\n",
    "        answers[instr][ndl_frmt][0] += val\n",
    "        answers[instr][ndl_frmt][1] += 1\n",
    "#     print(instr+','+str(val)+','+\"\\\"\"+ndl+\"\\\"\\n\")\n",
    "    f.write(instr+','+str(val)+','+\"\\\"\"+ndl+\"\\\"\\n\")\n",
    "    \n",
    "f.close()"
   ]
  },
  {
   "cell_type": "code",
   "execution_count": 5,
   "metadata": {},
   "outputs": [],
   "source": [
    "fa = open(\"PrometheusAnswersFirst.csv\", \"w\")\n",
    "\n",
    "for instr in answers:\n",
    "    for ndl in answers[instr]:\n",
    "        \n",
    "        # these instruments map to a MinMaxSumCount Aggregator in OTel, which map to a Gauge in Prometheus\n",
    "        # the average value, sum/count, is used as the \"last\" value a Gauge in Prometheus keeps track of\n",
    "        if (instr == \"ivrec\" or instr == \"ivobs\" or instr == \"svrec\" or instr == \"svobs\" or instr == \"dvrec\" or instr == \"dvobs\" or instr == \"fvrec\" or instr == \"fvobs\"):\n",
    "            avg = answers[instr][ndl][2]/answers[instr][ndl][3]\n",
    "#             print(\"gauge|{}|{}\".format(str(avg),ndl))\n",
    "            fa.write('gauge|'+str(avg)+'|'+ndl+'\\n')\n",
    "            \n",
    "        # these instruments map to a Counter Aggregator in OTel, which map to a Counter in Prometheus\n",
    "        # the sum is tracked by the Prometheus Counter so we validate only the sum, not count of updates, here\n",
    "        else:\n",
    "#             print(\"counter|{}|{}\".format(str(answers[instr][ndl][0]),ndl))\n",
    "            fa.write('counter|'+str(answers[instr][ndl][0])+'|'+ndl+'\\n')\n",
    "            \n",
    "fa.close()"
   ]
  },
  {
   "cell_type": "code",
   "execution_count": null,
   "metadata": {},
   "outputs": [],
   "source": []
  }
 ],
 "metadata": {
  "kernelspec": {
   "display_name": "Python 3",
   "language": "python",
   "name": "python3"
  },
  "language_info": {
   "codemirror_mode": {
    "name": "ipython",
    "version": 3
   },
   "file_extension": ".py",
   "mimetype": "text/x-python",
   "name": "python",
   "nbconvert_exporter": "python",
   "pygments_lexer": "ipython3",
   "version": "3.8.5"
  }
 },
 "nbformat": 4,
 "nbformat_minor": 4
}
